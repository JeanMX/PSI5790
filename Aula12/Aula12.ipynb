{
  "nbformat": 4,
  "nbformat_minor": 0,
  "metadata": {
    "colab": {
      "provenance": []
    },
    "kernelspec": {
      "name": "python3",
      "display_name": "Python 3"
    },
    "language_info": {
      "name": "python"
    }
  },
  "cells": [
    {
      "cell_type": "markdown",
      "source": [
        "# Lição de casa Aula 12 - PSI5790\n",
        "\n",
        "Nome: Jean Carlos Mello Xavier Faria\n",
        "\n",
        "Nusp: 11259628"
      ],
      "metadata": {
        "id": "nDrVQVIBHbup"
      }
    },
    {
      "cell_type": "code",
      "execution_count": 1,
      "metadata": {
        "colab": {
          "base_uri": "https://localhost:8080/"
        },
        "id": "AkwQmbjgpNea",
        "outputId": "39aa8c88-ccf4-4fad-e480-3f2c3a5752e3"
      },
      "outputs": [
        {
          "output_type": "stream",
          "name": "stdout",
          "text": [
            "Baixando o arquivo segm_eliret.zip para diretorio default /content\n",
            "Descompactando arquivos novos de segm_eliret.zip\n"
          ]
        },
        {
          "output_type": "execute_result",
          "data": {
            "text/plain": [
              "0"
            ]
          },
          "metadata": {},
          "execution_count": 1
        }
      ],
      "source": [
        "#Descarregar segm_eliret.zip\n",
        "url='http://www.lps.usp.br/hae/apostila/segm_eliret.zip'\n",
        "import os; nomeArq=os.path.split(url)[1]\n",
        "if not os.path.exists(nomeArq):\n",
        "  print(\"Baixando o arquivo\",nomeArq,\"para diretorio default\",os.getcwd())\n",
        "  os.system(\"wget -nc -U 'Firefox/50.0' \"+url)\n",
        "else:\n",
        "  print(\"O arquivo\",nomeArq,\"ja existe no diretorio default\",os.getcwd())\n",
        "print(\"Descompactando arquivos novos de\",nomeArq)\n",
        "os.system(\"unzip -u \"+nomeArq)"
      ]
    },
    {
      "cell_type": "markdown",
      "source": [
        "# Parte A"
      ],
      "metadata": {
        "id": "dvC6CB7rHkuH"
      }
    },
    {
      "cell_type": "code",
      "source": [
        "#fcn-train1.py\n",
        "#Treina rede fcn para segmentacao semantica de eliret\n",
        "import os; os.environ['TF_CPP_MIN_LOG_LEVEL']='3'\n",
        "os.environ['TF_FORCE_GPU_ALLOW_GROWTH'] = 'true'\n",
        "import tensorflow.keras as keras\n",
        "from tensorflow.keras.models import Model\n",
        "from tensorflow.keras.layers import Input, Dropout, Conv2D, Conv2DTranspose, concatenate\n",
        "from tensorflow.keras import optimizers\n",
        "import sys; import cv2; import numpy as np; import matplotlib.pyplot as plt\n",
        "\n",
        "def impHistoria(history):\n",
        "  print(history.history.keys())\n",
        "  plt.plot(history.history['loss'])\n",
        "  plt.plot(history.history['val_loss'])\n",
        "  plt.title('model loss'); plt.ylabel('loss'); plt.xlabel('epoch')\n",
        "  plt.legend(['train', 'test'], loc='upper left')\n",
        "  plt.show()\n",
        "\n",
        "def leCsv(nomeDir,nomeArq):\n",
        "  print(\"Lendo: \",nomeArq); arq=open(os.path.join(nomeDir,nomeArq),\"r\")\n",
        "  lines=arq.readlines(); arq.close(); n=len(lines)\n",
        "\n",
        "  nl,nc = 32,32;\n",
        "  AX=np.empty((n,nl,nc),dtype='uint8'); AY=np.empty((n,nl,nc),dtype='uint8')\n",
        "  i=0;\n",
        "  for linha in lines:\n",
        "    linha=linha.strip('\\n'); linha=linha.split(';')\n",
        "    AX[i]=cv2.imread(os.path.join(nomeDir,linha[0]),0)\n",
        "    AY[i]=cv2.imread(os.path.join(nomeDir,linha[1]),0)\n",
        "    i=i+1\n",
        "\n",
        "  ax= np.float32(AX)/255.0; ay= np.float32(AY)/255.0 #Entre 0 e +1\n",
        "  ax = ax.reshape(n, nl, nc, 1); ay = ay.reshape(n, nl, nc, 1)\n",
        "  return ax, ay\n",
        "\n",
        "#<<<<<<<<<<<<< main <<<<<<<<<<<<<<<<<\n",
        "bdDir = \".\"\n",
        "ax, ay = leCsv(bdDir,\"treino.csv\")\n",
        "vx, vy = leCsv(bdDir,\"valida.csv\")\n",
        "qx, qy = leCsv(bdDir,\"teste.csv\")\n",
        "outDir = \".\"; os.chdir(outDir)\n",
        "\n",
        "nl,nc = 32,32; input_shape = (nl,nc,1); batch_size = 20; epochs = 1000\n",
        "\n",
        "\n",
        "inputs = Input(shape=input_shape)\n",
        "# Encoder\n",
        "conv1 = Conv2D(40, kernel_size=(5,5), strides=2, activation='relu', padding='same')(inputs) #16x16\n",
        "drop1 = Dropout(0.25)(conv1)\n",
        "\n",
        "conv2 = Conv2D(12, kernel_size=(5,5), strides=2, activation='relu', padding='same')(drop1) #8x8\n",
        "drop2 = Dropout(0.25)(conv2)\n",
        "\n",
        "conv3 = Conv2D(12, kernel_size=(5,5), strides=2, activation='relu', padding='same')(drop2) #4x4\n",
        "drop3 = Dropout(0.25)(conv3)\n",
        "\n",
        "conv4 = Conv2D(12, kernel_size=(5,5), strides=1, activation='relu', padding='same')(drop3) #4x4\n",
        "drop4 = Dropout(0.25)(conv4)\n",
        "\n",
        "# Decoder\n",
        "up4 = Conv2DTranspose(12, kernel_size=(5,5), strides=2, activation='relu', padding='same')(drop4) #8x8\n",
        "up4 = concatenate([up4,drop2 ])\n",
        "drop4 = Dropout(0.25)(up4)\n",
        "\n",
        "up5 = Conv2DTranspose(40, kernel_size=(5,5), strides=2, activation='relu', padding='same')(drop4) #16x16\n",
        "up5 = concatenate([up5, drop1])\n",
        "drop5 = Dropout(0.25)(up5)\n",
        "\n",
        "outputs = Conv2DTranspose(1, kernel_size=(5,5), strides=2, padding='same')(drop5) #32x32\n",
        "\n",
        "model = Model(inputs=[inputs], outputs=[outputs])\n",
        "\n",
        "model.compile(optimizer=optimizers.Adam(), loss='mean_squared_error')\n",
        "\n",
        "model.summary()\n",
        "\n",
        "\n",
        "opt=optimizers.Adam()\n",
        "model.compile(optimizer=opt, loss='mean_squared_error')\n",
        "history=model.fit(ax, ay, batch_size=batch_size, epochs=epochs, verbose=0, validation_data=(vx,vy))\n",
        "impHistoria(history)\n",
        "\n",
        "score = model.evaluate(ax, ay, verbose=0); print('Training loss:', score)\n",
        "score = model.evaluate(vx, vy, verbose=0); print('Validation loss:', score)\n",
        "score = model.evaluate(qx, qy, verbose=0); print('Test loss:', score)\n",
        "model.save('fcn-train1_2.h5')"
      ],
      "metadata": {
        "colab": {
          "base_uri": "https://localhost:8080/",
          "height": 1000
        },
        "id": "3xMQMLEw6VVu",
        "outputId": "686a04ea-e56b-4b26-b6ed-64d1906c4c4e"
      },
      "execution_count": null,
      "outputs": [
        {
          "output_type": "stream",
          "name": "stdout",
          "text": [
            "Lendo:  treino.csv\n",
            "Lendo:  valida.csv\n",
            "Lendo:  teste.csv\n",
            "Model: \"model\"\n",
            "__________________________________________________________________________________________________\n",
            " Layer (type)                Output Shape                 Param #   Connected to                  \n",
            "==================================================================================================\n",
            " input_1 (InputLayer)        [(None, 32, 32, 1)]          0         []                            \n",
            "                                                                                                  \n",
            " conv2d (Conv2D)             (None, 16, 16, 40)           1040      ['input_1[0][0]']             \n",
            "                                                                                                  \n",
            " dropout (Dropout)           (None, 16, 16, 40)           0         ['conv2d[0][0]']              \n",
            "                                                                                                  \n",
            " conv2d_1 (Conv2D)           (None, 8, 8, 12)             12012     ['dropout[0][0]']             \n",
            "                                                                                                  \n",
            " dropout_1 (Dropout)         (None, 8, 8, 12)             0         ['conv2d_1[0][0]']            \n",
            "                                                                                                  \n",
            " conv2d_2 (Conv2D)           (None, 4, 4, 12)             3612      ['dropout_1[0][0]']           \n",
            "                                                                                                  \n",
            " dropout_2 (Dropout)         (None, 4, 4, 12)             0         ['conv2d_2[0][0]']            \n",
            "                                                                                                  \n",
            " conv2d_3 (Conv2D)           (None, 4, 4, 12)             3612      ['dropout_2[0][0]']           \n",
            "                                                                                                  \n",
            " dropout_3 (Dropout)         (None, 4, 4, 12)             0         ['conv2d_3[0][0]']            \n",
            "                                                                                                  \n",
            " conv2d_transpose (Conv2DTr  (None, 8, 8, 12)             3612      ['dropout_3[0][0]']           \n",
            " anspose)                                                                                         \n",
            "                                                                                                  \n",
            " concatenate (Concatenate)   (None, 8, 8, 24)             0         ['conv2d_transpose[0][0]',    \n",
            "                                                                     'dropout_1[0][0]']           \n",
            "                                                                                                  \n",
            " dropout_4 (Dropout)         (None, 8, 8, 24)             0         ['concatenate[0][0]']         \n",
            "                                                                                                  \n",
            " conv2d_transpose_1 (Conv2D  (None, 16, 16, 40)           24040     ['dropout_4[0][0]']           \n",
            " Transpose)                                                                                       \n",
            "                                                                                                  \n",
            " concatenate_1 (Concatenate  (None, 16, 16, 80)           0         ['conv2d_transpose_1[0][0]',  \n",
            " )                                                                   'dropout[0][0]']             \n",
            "                                                                                                  \n",
            " dropout_5 (Dropout)         (None, 16, 16, 80)           0         ['concatenate_1[0][0]']       \n",
            "                                                                                                  \n",
            " conv2d_transpose_2 (Conv2D  (None, 32, 32, 1)            2001      ['dropout_5[0][0]']           \n",
            " Transpose)                                                                                       \n",
            "                                                                                                  \n",
            "==================================================================================================\n",
            "Total params: 49929 (195.04 KB)\n",
            "Trainable params: 49929 (195.04 KB)\n",
            "Non-trainable params: 0 (0.00 Byte)\n",
            "__________________________________________________________________________________________________\n",
            "dict_keys(['loss', 'val_loss'])\n"
          ]
        },
        {
          "output_type": "display_data",
          "data": {
            "text/plain": [
              "<Figure size 640x480 with 1 Axes>"
            ],
            "image/png": "[encoded data removed]"
          },
          "metadata": {}
        },
        {
          "output_type": "stream",
          "name": "stdout",
          "text": [
            "Training loss: 0.005639072507619858\n",
            "Validation loss: 0.010115818120539188\n",
            "Test loss: 0.011012396775186062\n"
          ]
        },
        {
          "output_type": "stream",
          "name": "stderr",
          "text": [
            "/usr/local/lib/python3.10/dist-packages/keras/src/engine/training.py:3103: UserWarning: You are saving your model as an HDF5 file via `model.save()`. This file format is considered legacy. We recommend using instead the native Keras format, e.g. `model.save('my_model.keras')`.\n",
            "  saving_api.save_model(\n"
          ]
        }
      ]
    },
    {
      "cell_type": "code",
      "source": [
        "#fcn-pred1.py\n",
        "#Faz segmentacao semantica usando rede gerada pelo fcn-train1.py\n",
        "import os; os.environ['TF_CPP_MIN_LOG_LEVEL']='3'\n",
        "os.environ['TF_FORCE_GPU_ALLOW_GROWTH'] = 'true'\n",
        "import cv2; import numpy as np\n",
        "import tensorflow.keras as keras\n",
        "from tensorflow.keras.models import load_model\n",
        "\n",
        "#<<<<<<<<<<<<<<<<<<< main <<<<<<<<<<<<<<<<<<<<<<\n",
        "bdDir = \".\"\n",
        "outDir = \".\"; os.chdir(outDir)\n",
        "nome=\"077\"\n",
        "inImgX = nome+\"x.png\"; inImgY = nome+\"y.png\"\n",
        "outImgG =nome+\"g.png\"; outImgB =nome+\"b.png\"\n",
        "arquivoRede = \"fcn-train1_2.h5\"\n",
        "\n",
        "model = load_model(os.path.join(outDir,arquivoRede))\n",
        "QX=cv2.imread(os.path.join(bdDir,inImgX),0)\n",
        "QY=cv2.imread(os.path.join(bdDir,inImgY),0)\n",
        "nl=QX.shape[0]; nc=QX.shape[1]\n",
        "qx=np.float32(QX)/255.0 #Entre 0 e +1\n",
        "qx=qx.reshape(1, nl, nc, 1)\n",
        "\n",
        "qp=model.predict(qx); qp=qp.reshape(nl,nc) # entre 0 e +1\n",
        "\n",
        "QPG=255.0*qp; QPG=np.clip(QPG,0,255) # Entre 0 e 255\n",
        "QPG=np.uint8(QPG); cv2.imwrite(os.path.join(outDir,outImgG),QPG)\n",
        "\n",
        "QPB=np.zeros((nl,nc),dtype='uint8'); QPB[ qp>=0.5 ] = 255\n",
        "cv2.imwrite(os.path.join(outDir,outImgB),QPB)\n",
        "\n",
        "from matplotlib import pyplot as plt\n",
        "f = plt.figure()\n",
        "f.add_subplot(1,4,1); plt.imshow(QX,cmap=\"gray\"); plt.axis('off')\n",
        "f.add_subplot(1,4,2); plt.imshow(QY,cmap=\"gray\"); plt.axis('off')\n",
        "f.add_subplot(1,4,3); plt.imshow(QPG,cmap=\"gray\"); plt.axis('off')\n",
        "f.add_subplot(1,4,4); plt.imshow(QPB,cmap=\"gray\"); plt.axis('off')\n",
        "plt.show(block=True)"
      ],
      "metadata": {
        "colab": {
          "base_uri": "https://localhost:8080/",
          "height": 161
        },
        "id": "6V1zWgxoAsdJ",
        "outputId": "fe6db2f4-dbe2-4e72-eb29-6ef6b498b1f0"
      },
      "execution_count": null,
      "outputs": [
        {
          "output_type": "stream",
          "name": "stdout",
          "text": [
            "1/1 [==============================] - 0s 125ms/step\n"
          ]
        },
        {
          "output_type": "display_data",
          "data": {
            "text/plain": [
              "<Figure size 640x480 with 4 Axes>"
            ],
            "image/png": "[encoded data removed]"
          },
          "metadata": {}
        }
      ]
    },
    {
      "cell_type": "markdown",
      "source": [
        "# Parte B"
      ],
      "metadata": {
        "id": "bw3j4rLrHqnM"
      }
    },
    {
      "cell_type": "code",
      "source": [
        "#<<<<<<<<<<<<< main <<<<<<<<<<<<<<<<<\n",
        "bdDir = \".\"\n",
        "ax, ay = leCsv(bdDir,\"treino.csv\")\n",
        "vx, vy = leCsv(bdDir,\"valida.csv\")\n",
        "qx, qy = leCsv(bdDir,\"teste.csv\")\n",
        "outDir = \".\"; os.chdir(outDir)\n",
        "\n",
        "nl,nc = 32,32; input_shape = (nl,nc,1); batch_size = 20; epochs = 1000\n",
        "\n",
        "\n",
        "inputs = Input(shape=input_shape)\n",
        "# Encoder\n",
        "conv1 = Conv2D(40, kernel_size=(3,3), strides=1, activation='relu', padding='same')(inputs) #32x32\n",
        "conv1_stride = Conv2D(40, kernel_size=(3,3), strides=2, activation='relu', padding='same')(conv1)  #16x16\n",
        "drop1 = Dropout(0.25)(conv1_stride)\n",
        "\n",
        "conv2 = Conv2D(12, kernel_size=(3,3), strides=1, activation='relu', padding='same')(drop1) #16x16\n",
        "conv2_stride = Conv2D(12, kernel_size=(3,3), strides=2, activation='relu', padding='same')(conv2) #8x8\n",
        "drop2 = Dropout(0.25)(conv2_stride)\n",
        "\n",
        "conv3 = Conv2D(12, kernel_size=(3,3), strides=1, activation='relu', padding='same')(drop2) #8x8\n",
        "conv3_stride = Conv2D(12, kernel_size=(3,3), strides=2, activation='relu', padding='same')(conv3) #4x4\n",
        "drop3 = Dropout(0.25)(conv3_stride)\n",
        "\n",
        "conv4 = Conv2D(12, kernel_size=(3,3), strides=1, activation='relu', padding='same')(drop3) #4x4\n",
        "conv4 = Conv2D(12, kernel_size=(3,3), strides=1, activation='relu', padding='same')(conv4) #4x4\n",
        "drop4 = Dropout(0.25)(conv4)\n",
        "\n",
        "# Decoder\n",
        "up4 = Conv2DTranspose(12, kernel_size=(3,3), strides=1, activation='relu', padding='same')(drop4) #4x4\n",
        "up4 = Conv2DTranspose(12, kernel_size=(3,3), strides=2, activation='relu', padding='same')(up4)   #8x8\n",
        "up4 = concatenate([up4,conv3])\n",
        "drop4 = Dropout(0.25)(up4)\n",
        "conv4 = Conv2D(12, kernel_size=(3,3), strides=1, activation='relu', padding='same')(drop4) #8x8\n",
        "conv4 = Conv2D(12, kernel_size=(3,3), strides=1, activation='relu', padding='same')(conv4) #8x8\n",
        "\n",
        "up5 = Conv2DTranspose(40, kernel_size=(3,3), strides=1, activation='relu', padding='same')(conv4) #8x8\n",
        "up5 = Conv2DTranspose(40, kernel_size=(3,3), strides=2, activation='relu', padding='same')(up5)   #16x16\n",
        "up5 = concatenate([up5, conv2])\n",
        "drop5 = Dropout(0.25)(up5)\n",
        "conv5 = Conv2D(40, kernel_size=(3,3), strides=1, activation='relu', padding='same')(drop5) #16x16\n",
        "conv5 = Conv2D(40, kernel_size=(3,3), strides=1, activation='relu', padding='same')(conv5) #16x16\n",
        "\n",
        "up6 = Conv2DTranspose(40, kernel_size=(3,3), strides=1, activation='relu', padding='same')(conv5) #16x16\n",
        "up6 = Conv2DTranspose(40, kernel_size=(3,3), strides=2, activation='relu', padding='same')(up6)   #32x32\n",
        "up6 = concatenate([up6, conv1])\n",
        "drop5 = Dropout(0.25)(up6)\n",
        "conv6 = Conv2D(40, kernel_size=(3,3), strides=1, activation='relu', padding='same')(drop5) #32x32\n",
        "conv6 = Conv2D(40, kernel_size=(3,3), strides=1, activation='relu', padding='same')(conv6) #32x32\n",
        "\n",
        "outputs = Conv2D(1, kernel_size=(1,1), strides=1, padding='same')(conv6) #32x32\n",
        "\n",
        "model = Model(inputs=[inputs], outputs=[outputs])\n",
        "\n",
        "model.compile(optimizer=optimizers.Adam(), loss='mean_squared_error')\n",
        "\n",
        "model.summary()\n",
        "\n",
        "\n",
        "opt=optimizers.Adam()\n",
        "model.compile(optimizer=opt, loss='mean_squared_error')\n",
        "history=model.fit(ax, ay, batch_size=batch_size, epochs=epochs, verbose=0, validation_data=(vx,vy))\n",
        "impHistoria(history)\n",
        "\n",
        "score = model.evaluate(ax, ay, verbose=0); print('Training loss:', score)\n",
        "score = model.evaluate(vx, vy, verbose=0); print('Validation loss:', score)\n",
        "score = model.evaluate(qx, qy, verbose=0); print('Test loss:', score)\n",
        "model.save('fcn-train1.h5')\n"
      ],
      "metadata": {
        "colab": {
          "base_uri": "https://localhost:8080/",
          "height": 1000
        },
        "id": "UVBNA67UpXED",
        "outputId": "28cda6f0-1167-4b25-df0c-5a237493f73c"
      },
      "execution_count": null,
      "outputs": [
        {
          "output_type": "stream",
          "name": "stdout",
          "text": [
            "Lendo:  treino.csv\n",
            "Lendo:  valida.csv\n",
            "Lendo:  teste.csv\n",
            "Model: \"model_1\"\n",
            "__________________________________________________________________________________________________\n",
            " Layer (type)                Output Shape                 Param #   Connected to                  \n",
            "==================================================================================================\n",
            " input_2 (InputLayer)        [(None, 32, 32, 1)]          0         []                            \n",
            "                                                                                                  \n",
            " conv2d_4 (Conv2D)           (None, 32, 32, 40)           400       ['input_2[0][0]']             \n",
            "                                                                                                  \n",
            " conv2d_5 (Conv2D)           (None, 16, 16, 40)           14440     ['conv2d_4[0][0]']            \n",
            "                                                                                                  \n",
            " dropout_6 (Dropout)         (None, 16, 16, 40)           0         ['conv2d_5[0][0]']            \n",
            "                                                                                                  \n",
            " conv2d_6 (Conv2D)           (None, 16, 16, 12)           4332      ['dropout_6[0][0]']           \n",
            "                                                                                                  \n",
            " conv2d_7 (Conv2D)           (None, 8, 8, 12)             1308      ['conv2d_6[0][0]']            \n",
            "                                                                                                  \n",
            " dropout_7 (Dropout)         (None, 8, 8, 12)             0         ['conv2d_7[0][0]']            \n",
            "                                                                                                  \n",
            " conv2d_8 (Conv2D)           (None, 8, 8, 12)             1308      ['dropout_7[0][0]']           \n",
            "                                                                                                  \n",
            " conv2d_9 (Conv2D)           (None, 4, 4, 12)             1308      ['conv2d_8[0][0]']            \n",
            "                                                                                                  \n",
            " dropout_8 (Dropout)         (None, 4, 4, 12)             0         ['conv2d_9[0][0]']            \n",
            "                                                                                                  \n",
            " conv2d_10 (Conv2D)          (None, 4, 4, 12)             1308      ['dropout_8[0][0]']           \n",
            "                                                                                                  \n",
            " conv2d_11 (Conv2D)          (None, 4, 4, 12)             1308      ['conv2d_10[0][0]']           \n",
            "                                                                                                  \n",
            " dropout_9 (Dropout)         (None, 4, 4, 12)             0         ['conv2d_11[0][0]']           \n",
            "                                                                                                  \n",
            " conv2d_transpose_3 (Conv2D  (None, 4, 4, 12)             1308      ['dropout_9[0][0]']           \n",
            " Transpose)                                                                                       \n",
            "                                                                                                  \n",
            " conv2d_transpose_4 (Conv2D  (None, 8, 8, 12)             1308      ['conv2d_transpose_3[0][0]']  \n",
            " Transpose)                                                                                       \n",
            "                                                                                                  \n",
            " concatenate_2 (Concatenate  (None, 8, 8, 24)             0         ['conv2d_transpose_4[0][0]',  \n",
            " )                                                                   'conv2d_8[0][0]']            \n",
            "                                                                                                  \n",
            " dropout_10 (Dropout)        (None, 8, 8, 24)             0         ['concatenate_2[0][0]']       \n",
            "                                                                                                  \n",
            " conv2d_12 (Conv2D)          (None, 8, 8, 12)             2604      ['dropout_10[0][0]']          \n",
            "                                                                                                  \n",
            " conv2d_13 (Conv2D)          (None, 8, 8, 12)             1308      ['conv2d_12[0][0]']           \n",
            "                                                                                                  \n",
            " conv2d_transpose_5 (Conv2D  (None, 8, 8, 40)             4360      ['conv2d_13[0][0]']           \n",
            " Transpose)                                                                                       \n",
            "                                                                                                  \n",
            " conv2d_transpose_6 (Conv2D  (None, 16, 16, 40)           14440     ['conv2d_transpose_5[0][0]']  \n",
            " Transpose)                                                                                       \n",
            "                                                                                                  \n",
            " concatenate_3 (Concatenate  (None, 16, 16, 52)           0         ['conv2d_transpose_6[0][0]',  \n",
            " )                                                                   'conv2d_6[0][0]']            \n",
            "                                                                                                  \n",
            " dropout_11 (Dropout)        (None, 16, 16, 52)           0         ['concatenate_3[0][0]']       \n",
            "                                                                                                  \n",
            " conv2d_14 (Conv2D)          (None, 16, 16, 40)           18760     ['dropout_11[0][0]']          \n",
            "                                                                                                  \n",
            " conv2d_15 (Conv2D)          (None, 16, 16, 40)           14440     ['conv2d_14[0][0]']           \n",
            "                                                                                                  \n",
            " conv2d_transpose_7 (Conv2D  (None, 16, 16, 40)           14440     ['conv2d_15[0][0]']           \n",
            " Transpose)                                                                                       \n",
            "                                                                                                  \n",
            " conv2d_transpose_8 (Conv2D  (None, 32, 32, 40)           14440     ['conv2d_transpose_7[0][0]']  \n",
            " Transpose)                                                                                       \n",
            "                                                                                                  \n",
            " concatenate_4 (Concatenate  (None, 32, 32, 80)           0         ['conv2d_transpose_8[0][0]',  \n",
            " )                                                                   'conv2d_4[0][0]']            \n",
            "                                                                                                  \n",
            " dropout_12 (Dropout)        (None, 32, 32, 80)           0         ['concatenate_4[0][0]']       \n",
            "                                                                                                  \n",
            " conv2d_16 (Conv2D)          (None, 32, 32, 40)           28840     ['dropout_12[0][0]']          \n",
            "                                                                                                  \n",
            " conv2d_17 (Conv2D)          (None, 32, 32, 40)           14440     ['conv2d_16[0][0]']           \n",
            "                                                                                                  \n",
            " conv2d_18 (Conv2D)          (None, 32, 32, 1)            41        ['conv2d_17[0][0]']           \n",
            "                                                                                                  \n",
            "==================================================================================================\n",
            "Total params: 156441 (611.10 KB)\n",
            "Trainable params: 156441 (611.10 KB)\n",
            "Non-trainable params: 0 (0.00 Byte)\n",
            "__________________________________________________________________________________________________\n",
            "dict_keys(['loss', 'val_loss'])\n"
          ]
        },
        {
          "output_type": "display_data",
          "data": {
            "text/plain": [
              "<Figure size 640x480 with 1 Axes>"
            ],
            "image/png": "[encoded data removed]"
          },
          "metadata": {}
        },
        {
          "output_type": "stream",
          "name": "stdout",
          "text": [
            "Training loss: 8.13346923678182e-05\n",
            "Validation loss: 0.0067079211585223675\n",
            "Test loss: 0.005917046219110489\n"
          ]
        }
      ]
    },
    {
      "cell_type": "code",
      "source": [
        "#<<<<<<<<<<<<<<<<<<< main <<<<<<<<<<<<<<<<<<<<<<\n",
        "bdDir = \".\"\n",
        "outDir = \".\"; os.chdir(outDir)\n",
        "nome=\"077\"\n",
        "inImgX = nome+\"x.png\"; inImgY = nome+\"y.png\"\n",
        "outImgG =nome+\"g.png\"; outImgB =nome+\"b.png\"\n",
        "arquivoRede = \"fcn-train1.h5\"\n",
        "\n",
        "model = load_model(os.path.join(outDir,arquivoRede))\n",
        "QX=cv2.imread(os.path.join(bdDir,inImgX),0)\n",
        "QY=cv2.imread(os.path.join(bdDir,inImgY),0)\n",
        "nl=QX.shape[0]; nc=QX.shape[1]\n",
        "qx=np.float32(QX)/255.0 #Entre 0 e +1\n",
        "qx=qx.reshape(1, nl, nc, 1)\n",
        "\n",
        "qp=model.predict(qx); qp=qp.reshape(nl,nc) # entre 0 e +1\n",
        "\n",
        "QPG=255.0*qp; QPG=np.clip(QPG,0,255) # Entre 0 e 255\n",
        "QPG=np.uint8(QPG); cv2.imwrite(os.path.join(outDir,outImgG),QPG)\n",
        "\n",
        "QPB=np.zeros((nl,nc),dtype='uint8'); QPB[ qp>=0.5 ] = 255\n",
        "cv2.imwrite(os.path.join(outDir,outImgB),QPB)\n",
        "\n",
        "from matplotlib import pyplot as plt\n",
        "f = plt.figure()\n",
        "f.add_subplot(1,4,1); plt.imshow(QX,cmap=\"gray\"); plt.axis('off')\n",
        "f.add_subplot(1,4,2); plt.imshow(QY,cmap=\"gray\"); plt.axis('off')\n",
        "f.add_subplot(1,4,3); plt.imshow(QPG,cmap=\"gray\"); plt.axis('off')\n",
        "f.add_subplot(1,4,4); plt.imshow(QPB,cmap=\"gray\"); plt.axis('off')\n",
        "plt.show(block=True)"
      ],
      "metadata": {
        "colab": {
          "base_uri": "https://localhost:8080/",
          "height": 161
        },
        "id": "R9KIp11fzgtt",
        "outputId": "1f4abae5-b460-4934-d89e-951ea4a1b096"
      },
      "execution_count": null,
      "outputs": [
        {
          "output_type": "stream",
          "name": "stdout",
          "text": [
            "1/1 [==============================] - 1s 859ms/step\n"
          ]
        },
        {
          "output_type": "display_data",
          "data": {
            "text/plain": [
              "<Figure size 640x480 with 4 Axes>"
            ],
            "image/png": "[encoded data removed]"
          },
          "metadata": {}
        }
      ]
    }
  ]
}